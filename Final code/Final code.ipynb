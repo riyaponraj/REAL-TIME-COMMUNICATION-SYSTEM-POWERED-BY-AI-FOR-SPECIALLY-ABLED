{
 "cells": [
  {
   "cell_type": "markdown",
   "id": "87be30b8",
   "metadata": {},
   "source": [
    "# Required libraries"
   ]
  },
  {
   "cell_type": "code",
   "execution_count": 5,
   "id": "08b72ff5",
   "metadata": {},
   "outputs": [],
   "source": [
    "from tensorflow.keras.preprocessing.image import ImageDataGenerator as ig\n",
    "train = ig(rescale = 1./255, shear_range=0.2, zoom_range=0.2, horizontal_flip=True)\n",
    "test = ig(rescale=1./255)"
   ]
  },
  {
   "cell_type": "code",
   "execution_count": 15,
   "id": "bed3edb5",
   "metadata": {},
   "outputs": [],
   "source": [
    "from tensorflow.keras.models import Sequential\n",
    "from tensorflow.keras.layers import Dense\n",
    "from tensorflow.keras.layers import Convolution2D\n",
    "from tensorflow.keras.layers import MaxPooling2D\n",
    "from tensorflow.keras.layers import Dropout\n",
    "from tensorflow.keras.layers import Flatten"
   ]
  },
  {
   "cell_type": "markdown",
   "id": "e991bd15",
   "metadata": {},
   "source": [
    "# Image Preprocessing"
   ]
  },
  {
   "cell_type": "code",
   "execution_count": 19,
   "id": "90f74954",
   "metadata": {},
   "outputs": [
    {
     "name": "stdout",
     "output_type": "stream",
     "text": [
      "Found 15750 images belonging to 9 classes.\n",
      "Found 2250 images belonging to 9 classes.\n"
     ]
    }
   ],
   "source": [
    "xtrain = train.flow_from_directory(r'E:\\ibm\\IBM-Project-31230-1660197974\\Data Collection\\Dataset\\training_set', target_size=(64,64), batch_size=300, class_mode='categorical', color_mode= 'grayscale')\n",
    "xtest = train.flow_from_directory(r'E:\\ibm\\IBM-Project-31230-1660197974\\Data Collection\\Dataset\\test_set', target_size=(64,64), batch_size=300, class_mode='categorical', color_mode= 'grayscale')"
   ]
  },
  {
   "cell_type": "markdown",
   "id": "1e09ae36",
   "metadata": {},
   "source": [
    "# Model Building"
   ]
  },
  {
   "cell_type": "code",
   "execution_count": 16,
   "id": "d261a289",
   "metadata": {},
   "outputs": [],
   "source": [
    "model = Sequential()\n",
    "model.add(Convolution2D(32, (3,3), input_shape=(64,64,1), activation='relu')) #convolution layer\n",
    "model.add(MaxPooling2D(pool_size=(2,2))) # pooling layer\n",
    "model.add(Flatten()) #flatten layer\n",
    "model.add(Dense(units=512, activation='relu')) #dense layer\n",
    "model.add(Dense(units=9, activation='softmax'))  #dense layer"
   ]
  },
  {
   "cell_type": "code",
   "execution_count": 17,
   "id": "8ce7b0c9",
   "metadata": {},
   "outputs": [],
   "source": [
    "#compile the model\n",
    "model.compile(loss='categorical_crossentropy', optimizer='adam', metrics=['accuracy'])"
   ]
  },
  {
   "cell_type": "code",
   "execution_count": 20,
   "id": "ff14819d",
   "metadata": {},
   "outputs": [
    {
     "name": "stderr",
     "output_type": "stream",
     "text": [
      "C:\\Users\\riyap\\anaconda3\\envs\\tf-gpu\\lib\\site-packages\\tensorflow\\python\\keras\\engine\\training.py:1940: UserWarning: `Model.fit_generator` is deprecated and will be removed in a future version. Please use `Model.fit`, which supports generators.\n",
      "  warnings.warn('`Model.fit_generator` is deprecated and '\n"
     ]
    },
    {
     "name": "stdout",
     "output_type": "stream",
     "text": [
      "Epoch 1/10\n",
      "24/24 [==============================] - ETA: 0s - loss: 1.0995 - accuracy: 0.6942WARNING:tensorflow:Your input ran out of data; interrupting training. Make sure that your dataset or generator can generate at least `steps_per_epoch * epochs` batches (in this case, 40 batches). You may need to use the repeat() function when building your dataset.\n",
      "24/24 [==============================] - 59s 2s/step - loss: 1.0995 - accuracy: 0.6942 - val_loss: 0.4567 - val_accuracy: 0.8680\n",
      "Epoch 2/10\n",
      "24/24 [==============================] - 22s 916ms/step - loss: 0.2447 - accuracy: 0.9319\n",
      "Epoch 3/10\n",
      "24/24 [==============================] - 15s 605ms/step - loss: 0.1207 - accuracy: 0.9684\n",
      "Epoch 4/10\n",
      "24/24 [==============================] - 12s 498ms/step - loss: 0.0734 - accuracy: 0.9800\n",
      "Epoch 5/10\n",
      "24/24 [==============================] - 9s 358ms/step - loss: 0.0536 - accuracy: 0.9861\n",
      "Epoch 6/10\n",
      "24/24 [==============================] - 8s 311ms/step - loss: 0.0422 - accuracy: 0.9893\n",
      "Epoch 7/10\n",
      "24/24 [==============================] - 7s 280ms/step - loss: 0.0286 - accuracy: 0.9930\n",
      "Epoch 8/10\n",
      "24/24 [==============================] - 7s 295ms/step - loss: 0.0241 - accuracy: 0.9939\n",
      "Epoch 9/10\n",
      "24/24 [==============================] - 6s 256ms/step - loss: 0.0215 - accuracy: 0.9949\n",
      "Epoch 10/10\n",
      "24/24 [==============================] - 7s 286ms/step - loss: 0.0155 - accuracy: 0.9966\n"
     ]
    }
   ],
   "source": [
    "model.fit_generator(xtrain, steps_per_epoch=24, epochs=10, validation_data=xtest, validation_steps=40)  #fit the model\n",
    "model.save('aslpng1.h5')  #saving the model\n",
    "                    "
   ]
  },
  {
   "cell_type": "markdown",
   "id": "db2c485f",
   "metadata": {},
   "source": [
    "# Test the model"
   ]
  },
  {
   "cell_type": "code",
   "execution_count": 26,
   "id": "2c9031e2",
   "metadata": {},
   "outputs": [],
   "source": [
    "#Import packages and load the saved model\n",
    "from tensorflow.keras.models import load_model\n",
    "import numpy as np\n",
    "import cv2\n",
    "import skimage"
   ]
  },
  {
   "cell_type": "code",
   "execution_count": 22,
   "id": "abb48f91",
   "metadata": {},
   "outputs": [],
   "source": [
    "model = load_model('aslpng1.h5')"
   ]
  },
  {
   "cell_type": "code",
   "execution_count": 27,
   "id": "bd1ae9c9",
   "metadata": {},
   "outputs": [],
   "source": [
    "#preprocess the images\n",
    "from skimage.transform import resize\n",
    "def detect(frame):\n",
    "    img = resize(frame, (64,64,1))\n",
    "    img =np.expand_dims(img, axis=0)\n",
    "    if(np.max(img)>1):\n",
    "        img = img/255.0\n",
    "    pred = model.predict(img)\n",
    "    print(pred)\n",
    "    pred = model.predict_classes(img)\n",
    "    print(pred)"
   ]
  },
  {
   "cell_type": "code",
   "execution_count": 28,
   "id": "28fedf43",
   "metadata": {},
   "outputs": [
    {
     "name": "stdout",
     "output_type": "stream",
     "text": [
      "[[4.5008630e-08 5.9901827e-11 1.7369990e-06 3.4444175e-10 1.1011272e-09\n",
      "  7.6371736e-09 9.9998164e-01 1.6525357e-05 1.1666364e-10]]\n",
      "[6]\n"
     ]
    },
    {
     "name": "stderr",
     "output_type": "stream",
     "text": [
      "C:\\Users\\riyap\\anaconda3\\envs\\tf-gpu\\lib\\site-packages\\tensorflow\\python\\keras\\engine\\sequential.py:455: UserWarning: `model.predict_classes()` is deprecated and will be removed after 2021-01-01. Please use instead:* `np.argmax(model.predict(x), axis=-1)`,   if your model does multi-class classification   (e.g. if it uses a `softmax` last-layer activation).* `(model.predict(x) > 0.5).astype(\"int32\")`,   if your model does binary classification   (e.g. if it uses a `sigmoid` last-layer activation).\n",
      "  warnings.warn('`model.predict_classes()` is deprecated and '\n"
     ]
    }
   ],
   "source": [
    "#Load and predict\n",
    "frame = cv2.imread(r'E:\\ibm\\IBM-Project-31230-1660197974\\Data Collection\\Dataset\\test_set\\G\\1.png')\n",
    "data = detect(frame)"
   ]
  }
 ],
 "metadata": {
  "kernelspec": {
   "display_name": "Python 3 (ipykernel)",
   "language": "python",
   "name": "python3"
  },
  "language_info": {
   "codemirror_mode": {
    "name": "ipython",
    "version": 3
   },
   "file_extension": ".py",
   "mimetype": "text/x-python",
   "name": "python",
   "nbconvert_exporter": "python",
   "pygments_lexer": "ipython3",
   "version": "3.9.6"
  }
 },
 "nbformat": 4,
 "nbformat_minor": 5
}
