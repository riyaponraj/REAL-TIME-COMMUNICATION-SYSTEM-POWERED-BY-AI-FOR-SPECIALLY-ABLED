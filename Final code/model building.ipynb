{
 "cells": [
  {
   "cell_type": "markdown",
   "id": "9e18db85",
   "metadata": {},
   "source": [
    "# Required libraries"
   ]
  },
  {
   "cell_type": "code",
   "execution_count": 5,
   "id": "ca2f3bca",
   "metadata": {},
   "outputs": [],
   "source": [
    "from tensorflow.keras.preprocessing.image import ImageDataGenerator as ig\n",
    "train = ig(rescale = 1./255, shear_range=0.2, zoom_range=0.2, horizontal_flip=True)\n",
    "test = ig(rescale=1./255)"
   ]
  },
  {
   "cell_type": "code",
   "execution_count": 15,
   "id": "4e20f541",
   "metadata": {},
   "outputs": [],
   "source": [
    "from tensorflow.keras.models import Sequential\n",
    "from tensorflow.keras.layers import Dense\n",
    "from tensorflow.keras.layers import Convolution2D\n",
    "from tensorflow.keras.layers import MaxPooling2D\n",
    "from tensorflow.keras.layers import Dropout\n",
    "from tensorflow.keras.layers import Flatten"
   ]
  },
  {
   "cell_type": "markdown",
   "id": "180ce895",
   "metadata": {},
   "source": [
    "# Image Preprocessing"
   ]
  },
  {
   "cell_type": "code",
   "execution_count": 19,
   "id": "12ceed8e",
   "metadata": {},
   "outputs": [
    {
     "name": "stdout",
     "output_type": "stream",
     "text": [
      "Found 15750 images belonging to 9 classes.\n",
      "Found 2250 images belonging to 9 classes.\n"
     ]
    }
   ],
   "source": [
    "xtrain = train.flow_from_directory(r'E:\\ibm\\IBM-Project-31230-1660197974\\Data Collection\\Dataset\\training_set', target_size=(64,64), batch_size=300, class_mode='categorical', color_mode= 'grayscale')\n",
    "xtest = train.flow_from_directory(r'E:\\ibm\\IBM-Project-31230-1660197974\\Data Collection\\Dataset\\test_set', target_size=(64,64), batch_size=300, class_mode='categorical', color_mode= 'grayscale')"
   ]
  },
  {
   "cell_type": "markdown",
   "id": "cb891ab8",
   "metadata": {},
   "source": [
    "# Model Building"
   ]
  },
  {
   "cell_type": "code",
   "execution_count": 16,
   "id": "1f26b5a0",
   "metadata": {},
   "outputs": [],
   "source": [
    "model = Sequential()\n",
    "model.add(Convolution2D(32, (3,3), input_shape=(64,64,1), activation='relu')) #convolution layer\n",
    "model.add(MaxPooling2D(pool_size=(2,2))) # pooling layer\n",
    "model.add(Flatten()) #flatten layer\n",
    "model.add(Dense(units=512, activation='relu')) #dense layer\n",
    "model.add(Dense(units=9, activation='softmax'))  #dense layer"
   ]
  },
  {
   "cell_type": "code",
   "execution_count": 17,
   "id": "20d132a2",
   "metadata": {},
   "outputs": [],
   "source": [
    "#compile the model\n",
    "model.compile(loss='categorical_crossentropy', optimizer='adam', metrics=['accuracy'])"
   ]
  },
  {
   "cell_type": "code",
   "execution_count": 20,
   "id": "75ba9d55",
   "metadata": {},
   "outputs": [
    {
     "name": "stderr",
     "output_type": "stream",
     "text": [
      "C:\\Users\\riyap\\anaconda3\\envs\\tf-gpu\\lib\\site-packages\\tensorflow\\python\\keras\\engine\\training.py:1940: UserWarning: `Model.fit_generator` is deprecated and will be removed in a future version. Please use `Model.fit`, which supports generators.\n",
      "  warnings.warn('`Model.fit_generator` is deprecated and '\n"
     ]
    },
    {
     "name": "stdout",
     "output_type": "stream",
     "text": [
      "Epoch 1/10\n",
      "24/24 [==============================] - ETA: 0s - loss: 1.0995 - accuracy: 0.6942WARNING:tensorflow:Your input ran out of data; interrupting training. Make sure that your dataset or generator can generate at least `steps_per_epoch * epochs` batches (in this case, 40 batches). You may need to use the repeat() function when building your dataset.\n",
      "24/24 [==============================] - 59s 2s/step - loss: 1.0995 - accuracy: 0.6942 - val_loss: 0.4567 - val_accuracy: 0.8680\n",
      "Epoch 2/10\n",
      "24/24 [==============================] - 22s 916ms/step - loss: 0.2447 - accuracy: 0.9319\n",
      "Epoch 3/10\n",
      "24/24 [==============================] - 15s 605ms/step - loss: 0.1207 - accuracy: 0.9684\n",
      "Epoch 4/10\n",
      "24/24 [==============================] - 12s 498ms/step - loss: 0.0734 - accuracy: 0.9800\n",
      "Epoch 5/10\n",
      "24/24 [==============================] - 9s 358ms/step - loss: 0.0536 - accuracy: 0.9861\n",
      "Epoch 6/10\n",
      "24/24 [==============================] - 8s 311ms/step - loss: 0.0422 - accuracy: 0.9893\n",
      "Epoch 7/10\n",
      "24/24 [==============================] - 7s 280ms/step - loss: 0.0286 - accuracy: 0.9930\n",
      "Epoch 8/10\n",
      "24/24 [==============================] - 7s 295ms/step - loss: 0.0241 - accuracy: 0.9939\n",
      "Epoch 9/10\n",
      "24/24 [==============================] - 6s 256ms/step - loss: 0.0215 - accuracy: 0.9949\n",
      "Epoch 10/10\n",
      "24/24 [==============================] - 7s 286ms/step - loss: 0.0155 - accuracy: 0.9966\n"
     ]
    }
   ],
   "source": [
    "model.fit_generator(xtrain, steps_per_epoch=24, epochs=10, validation_data=xtest, validation_steps=40)  #fit the model\n",
    "model.save('aslpng1.h5')  #saving the model\n",
    "                    "
   ]
  }
 ],
 "metadata": {
  "kernelspec": {
   "display_name": "Python 3 (ipykernel)",
   "language": "python",
   "name": "python3"
  },
  "language_info": {
   "codemirror_mode": {
    "name": "ipython",
    "version": 3
   },
   "file_extension": ".py",
   "mimetype": "text/x-python",
   "name": "python",
   "nbconvert_exporter": "python",
   "pygments_lexer": "ipython3",
   "version": "3.9.6"
  }
 },
 "nbformat": 4,
 "nbformat_minor": 5
}
