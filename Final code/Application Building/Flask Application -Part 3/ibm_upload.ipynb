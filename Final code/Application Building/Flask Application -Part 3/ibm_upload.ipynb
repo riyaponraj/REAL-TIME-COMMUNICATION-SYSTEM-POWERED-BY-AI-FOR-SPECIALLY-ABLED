{
 "cells": [
  {
   "cell_type": "code",
   "execution_count": 16,
   "metadata": {},
   "outputs": [],
   "source": [
    "from ibm_watson_machine_learning import APIClient\n",
    "\n",
    "web_cred={\n",
    "    \"apikey\": \"k5dhyLxzvxOg0E6KPDSTLtIQgenUGD3loujiRCWrBErK\",\n",
    "\t\"url\": \"https://eu-gb.ml.cloud.ibm.com\"\n",
    "}\n",
    "\n",
    "client=APIClient(web_cred)"
   ]
  },
  {
   "cell_type": "code",
   "execution_count": 17,
   "metadata": {},
   "outputs": [
    {
     "data": {
      "text/plain": [
       "'SUCCESS'"
      ]
     },
     "execution_count": 17,
     "metadata": {},
     "output_type": "execute_result"
    }
   ],
   "source": [
    "spaceID=\"e4ef5efc-e11a-41cc-9c1e-b45c6a510aeb\"\n",
    "x=client.set.default_space(spaceID)\n",
    "x"
   ]
  },
  {
   "cell_type": "code",
   "execution_count": 18,
   "metadata": {},
   "outputs": [
    {
     "data": {
      "text/plain": [
       "'acd9c798-6974-5d2f-a657-ce06e986df4d'"
      ]
     },
     "execution_count": 18,
     "metadata": {},
     "output_type": "execute_result"
    }
   ],
   "source": [
    "sw_id=client.software_specifications.get_uid_by_name(\"tensorflow_rt22.1-py3.9\")\n",
    "sw_id"
   ]
  },
  {
   "cell_type": "code",
   "execution_count": 19,
   "metadata": {},
   "outputs": [
    {
     "name": "stderr",
     "output_type": "stream",
     "text": [
      "a keras_model.h5\n"
     ]
    }
   ],
   "source": [
    "!tar -zcvf sign_lang.tgz keras_model.h5"
   ]
  },
  {
   "cell_type": "code",
   "execution_count": 20,
   "metadata": {},
   "outputs": [],
   "source": [
    "model_details=client.repository.store_model(model=\"sign_lang.tgz\",meta_props={\n",
    "    client.repository.ModelMetaNames.NAME: \"CNN_sign_lang\",\n",
    "    client.repository.ModelMetaNames.TYPE: \"tensorflow_2.7\",\n",
    "    client.repository.ModelMetaNames.SOFTWARE_SPEC_UID:sw_id\n",
    "})"
   ]
  },
  {
   "cell_type": "code",
   "execution_count": 21,
   "metadata": {},
   "outputs": [
    {
     "data": {
      "text/plain": [
       "{'entity': {'hybrid_pipeline_software_specs': [],\n",
       "  'software_spec': {'id': 'acd9c798-6974-5d2f-a657-ce06e986df4d',\n",
       "   'name': 'tensorflow_rt22.1-py3.9'},\n",
       "  'type': 'tensorflow_2.7'},\n",
       " 'metadata': {'created_at': '2022-11-07T04:58:57.379Z',\n",
       "  'id': 'e85e52c1-6ab2-4fa5-a56e-5610b7368292',\n",
       "  'modified_at': '2022-11-07T04:59:02.593Z',\n",
       "  'name': 'CNN_sign_lang',\n",
       "  'owner': 'IBMid-668000CNQ0',\n",
       "  'resource_key': 'd767170e-5545-4e10-9c54-687fed2e8128',\n",
       "  'space_id': 'e4ef5efc-e11a-41cc-9c1e-b45c6a510aeb'},\n",
       " 'system': {'warnings': []}}"
      ]
     },
     "execution_count": 21,
     "metadata": {},
     "output_type": "execute_result"
    }
   ],
   "source": [
    "model_details"
   ]
  },
  {
   "cell_type": "code",
   "execution_count": 22,
   "metadata": {},
   "outputs": [
    {
     "data": {
      "text/plain": [
       "'e85e52c1-6ab2-4fa5-a56e-5610b7368292'"
      ]
     },
     "execution_count": 22,
     "metadata": {},
     "output_type": "execute_result"
    }
   ],
   "source": [
    "model_id=client.repository.get_model_id(model_details)\n",
    "model_id"
   ]
  },
  {
   "cell_type": "code",
   "execution_count": 25,
   "metadata": {},
   "outputs": [
    {
     "name": "stdout",
     "output_type": "stream",
     "text": [
      "------------------------------------  -------------  ------------------------  --------------  -----\n",
      "GUID                                  NAME           CREATED                   FRAMEWORK       TYPE\n",
      "e85e52c1-6ab2-4fa5-a56e-5610b7368292  CNN_sign_lang  2022-11-07T04:58:57.002Z  tensorflow_2.7  model\n",
      "------------------------------------  -------------  ------------------------  --------------  -----\n"
     ]
    }
   ],
   "source": [
    "client.repository.list()"
   ]
  },
  {
   "cell_type": "code",
   "execution_count": 26,
   "metadata": {},
   "outputs": [
    {
     "name": "stdout",
     "output_type": "stream",
     "text": [
      "Successfully saved model content to file: 'sign_lang_1.tgz'\n"
     ]
    },
    {
     "data": {
      "text/plain": [
       "'c:\\\\Users\\\\Deva\\\\Documents\\\\PROGRAMMING\\\\Project/sign_lang_1.tgz'"
      ]
     },
     "execution_count": 26,
     "metadata": {},
     "output_type": "execute_result"
    }
   ],
   "source": [
    "model_id=\"e85e52c1-6ab2-4fa5-a56e-5610b7368292\"\n",
    "client.repository.download(model_id,\"sign_lang_1.tgz\")"
   ]
  },
  {
   "cell_type": "code",
   "execution_count": null,
   "metadata": {},
   "outputs": [],
   "source": []
  }
 ],
 "metadata": {
  "kernelspec": {
   "display_name": "Python 3.10.5 ('Project': venv)",
   "language": "python",
   "name": "python3"
  },
  "language_info": {
   "codemirror_mode": {
    "name": "ipython",
    "version": 3
   },
   "file_extension": ".py",
   "mimetype": "text/x-python",
   "name": "python",
   "nbconvert_exporter": "python",
   "pygments_lexer": "ipython3",
   "version": "3.10.5"
  },
  "orig_nbformat": 4,
  "vscode": {
   "interpreter": {
    "hash": "ba9773247cf08eab2a360d6a9c5bab996e2576429b058b41aa3e932f7abca2d4"
   }
  }
 },
 "nbformat": 4,
 "nbformat_minor": 2
}
