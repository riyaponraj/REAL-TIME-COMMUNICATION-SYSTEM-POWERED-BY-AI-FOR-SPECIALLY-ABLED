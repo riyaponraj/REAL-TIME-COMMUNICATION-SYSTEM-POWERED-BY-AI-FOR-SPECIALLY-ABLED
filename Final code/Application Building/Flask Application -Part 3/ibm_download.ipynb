{
 "cells": [
  {
   "cell_type": "code",
   "execution_count": 9,
   "metadata": {},
   "outputs": [],
   "source": [
    "from ibm_watson_machine_learning import APIClient\n",
    "import tarfile\n",
    "\n",
    "web_cred={\n",
    "    \"apikey\": \"k5dhyLxzvxOg0E6KPDSTLtIQgenUGD3loujiRCWrBErK\",\n",
    "\t\"url\": \"https://eu-gb.ml.cloud.ibm.com\"\n",
    "}\n",
    "\n",
    "client=APIClient(web_cred)"
   ]
  },
  {
   "cell_type": "code",
   "execution_count": 2,
   "metadata": {},
   "outputs": [
    {
     "data": {
      "text/plain": [
       "'SUCCESS'"
      ]
     },
     "execution_count": 2,
     "metadata": {},
     "output_type": "execute_result"
    }
   ],
   "source": [
    "spaceID=\"e4ef5efc-e11a-41cc-9c1e-b45c6a510aeb\"\n",
    "client.set.default_space(spaceID)"
   ]
  },
  {
   "cell_type": "code",
   "execution_count": 3,
   "metadata": {},
   "outputs": [],
   "source": [
    "model_id=\"e85e52c1-6ab2-4fa5-a56e-5610b7368292\""
   ]
  },
  {
   "cell_type": "code",
   "execution_count": 4,
   "metadata": {},
   "outputs": [
    {
     "name": "stdout",
     "output_type": "stream",
     "text": [
      "Successfully saved model content to file: 'Model/sign.tgz'\n"
     ]
    },
    {
     "data": {
      "text/plain": [
       "'c:\\\\Users\\\\Deva\\\\Documents\\\\PROGRAMMING\\\\Project/Model/sign.tgz'"
      ]
     },
     "execution_count": 4,
     "metadata": {},
     "output_type": "execute_result"
    }
   ],
   "source": [
    "client.repository.download(model_id,'Model/sign.tgz')"
   ]
  },
  {
   "cell_type": "code",
   "execution_count": 7,
   "metadata": {},
   "outputs": [
    {
     "name": "stderr",
     "output_type": "stream",
     "text": [
      "x keras_model.h5\n"
     ]
    }
   ],
   "source": [
    "!tar xvf Model/sign.tgz --directory \"/Users/Deva/Documents/PROGRAMMING/Project/Model/\"\n"
   ]
  }
 ],
 "metadata": {
  "kernelspec": {
   "display_name": "Python 3.10.5 ('Project': venv)",
   "language": "python",
   "name": "python3"
  },
  "language_info": {
   "codemirror_mode": {
    "name": "ipython",
    "version": 3
   },
   "file_extension": ".py",
   "mimetype": "text/x-python",
   "name": "python",
   "nbconvert_exporter": "python",
   "pygments_lexer": "ipython3",
   "version": "3.10.5"
  },
  "orig_nbformat": 4,
  "vscode": {
   "interpreter": {
    "hash": "ba9773247cf08eab2a360d6a9c5bab996e2576429b058b41aa3e932f7abca2d4"
   }
  }
 },
 "nbformat": 4,
 "nbformat_minor": 2
}
